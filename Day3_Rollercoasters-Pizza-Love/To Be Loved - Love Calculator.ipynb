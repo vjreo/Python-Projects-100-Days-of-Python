{
 "cells": [
  {
   "cell_type": "code",
   "execution_count": null,
   "id": "3188cd47",
   "metadata": {},
   "outputs": [],
   "source": [
    "print(\"Welcome to the Love Calculator!\")\n",
    "name1 = input(\"What is your name? \\n\")\n",
    "name2 = input(\"What is their name? \\n\")\n",
    "\n",
    "\n",
    "combined_string = name1 + name2\n",
    "lower_case_string = combined_string.lower()\n",
    "\n",
    "t = lower_case_string.count('t')\n",
    "r = lower_case_string.count('r')\n",
    "u = lower_case_string.count('u')\n",
    "e = lower_case_string.count('e')\n",
    "total_word_true = t + r + u + e\n",
    "\n",
    "l = lower_case_string.count('l')\n",
    "o = lower_case_string.count('o')\n",
    "v = lower_case_string.count('v')\n",
    "e = lower_case_string.count('e')\n",
    "total_word_love = l + o + v + e\n",
    "\n",
    "true_love_string = str(total_word_true) + str(total_word_love)\n",
    "total_love_score = int(true_love_string)\n",
    "print(total_love_score)\n",
    "\n",
    "if total_love_score <= 10 or total_love_score >= 90:\n",
    "    print(f\"Your score is {total_love_score}, you go together like coke and mentos\")\n",
    "elif total_love_score >= 40 and total_love_score < 50:\n",
    "    print(f\"Your score is {total_love_score}, you are alright together\")\n",
    "else:\n",
    "    print(f\"Your score is {total_love_score}.\")"
   ]
  }
 ],
 "metadata": {
  "kernelspec": {
   "display_name": "Python 3 (ipykernel)",
   "language": "python",
   "name": "python3"
  },
  "language_info": {
   "codemirror_mode": {
    "name": "ipython",
    "version": 3
   },
   "file_extension": ".py",
   "mimetype": "text/x-python",
   "name": "python",
   "nbconvert_exporter": "python",
   "pygments_lexer": "ipython3",
   "version": "3.8.8"
  }
 },
 "nbformat": 4,
 "nbformat_minor": 5
}
