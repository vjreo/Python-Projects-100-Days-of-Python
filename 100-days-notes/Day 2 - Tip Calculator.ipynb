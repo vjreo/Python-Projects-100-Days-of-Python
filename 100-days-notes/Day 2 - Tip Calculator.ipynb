{
 "cells": [
  {
   "cell_type": "markdown",
   "id": "0d8ccb3e",
   "metadata": {},
   "source": [
    "# 100 Days of Python Code: Day 2"
   ]
  },
  {
   "cell_type": "markdown",
   "id": "b8c5041e",
   "metadata": {},
   "source": [
    "# Notes"
   ]
  },
  {
   "cell_type": "markdown",
   "id": "4dc06744",
   "metadata": {},
   "source": [
    "Python Data Types:\n",
    "- Strings\n",
    "- Integers\n",
    "- Floats\n",
    "- Booleans"
   ]
  },
  {
   "cell_type": "markdown",
   "id": "d3665c4e",
   "metadata": {},
   "source": [
    "1. Strings - strings of characters chained together, surrounded by quotations."
   ]
  },
  {
   "cell_type": "code",
   "execution_count": 1,
   "id": "a2f56cc0",
   "metadata": {},
   "outputs": [
    {
     "name": "stdout",
     "output_type": "stream",
     "text": [
      "H\n"
     ]
    }
   ],
   "source": [
    "print(\"Hello\"[0])"
   ]
  },
  {
   "cell_type": "code",
   "execution_count": 2,
   "id": "6d1764f2",
   "metadata": {},
   "outputs": [
    {
     "name": "stdout",
     "output_type": "stream",
     "text": [
      "o\n"
     ]
    }
   ],
   "source": [
    "print(\"Hello\"[-1])"
   ]
  },
  {
   "cell_type": "markdown",
   "id": "ffcf4d88",
   "metadata": {},
   "source": [
    "2. Integers - whole numbers without any decimal places. "
   ]
  },
  {
   "cell_type": "code",
   "execution_count": 3,
   "id": "97b30b94",
   "metadata": {},
   "outputs": [
    {
     "name": "stdout",
     "output_type": "stream",
     "text": [
      "468\n"
     ]
    }
   ],
   "source": [
    "print(123 + 345)"
   ]
  },
  {
   "cell_type": "markdown",
   "id": "940e7f5a",
   "metadata": {},
   "source": [
    "- Large integers normally uses commas in plain text. However, in Python, we can use underscores where the commas would typically go."
   ]
  },
  {
   "cell_type": "code",
   "execution_count": 4,
   "id": "0f922f99",
   "metadata": {},
   "outputs": [
    {
     "data": {
      "text/plain": [
       "123456788"
      ]
     },
     "execution_count": 4,
     "metadata": {},
     "output_type": "execute_result"
    }
   ],
   "source": [
    "123_456_789 - 1"
   ]
  },
  {
   "cell_type": "markdown",
   "id": "12c26ef5",
   "metadata": {},
   "source": [
    "3. Float - Short for a floating point number. These are numbers with decimals. "
   ]
  },
  {
   "cell_type": "code",
   "execution_count": 5,
   "id": "593dcad6",
   "metadata": {},
   "outputs": [
    {
     "data": {
      "text/plain": [
       "3.14159"
      ]
     },
     "execution_count": 5,
     "metadata": {},
     "output_type": "execute_result"
    }
   ],
   "source": [
    "3.14159"
   ]
  },
  {
   "cell_type": "markdown",
   "id": "7214d3ef",
   "metadata": {},
   "source": [
    "4. Boolean - two possible values: True or False. These values always start with either a capital 'T' or capital 'F'. Note that these are not surrounded by quotations."
   ]
  },
  {
   "cell_type": "markdown",
   "id": "95a91020",
   "metadata": {},
   "source": [
    "Type Error, Type Checking, and Type Conversion"
   ]
  },
  {
   "cell_type": "code",
   "execution_count": 3,
   "id": "1c659d84",
   "metadata": {},
   "outputs": [
    {
     "name": "stdout",
     "output_type": "stream",
     "text": [
      "What is your name? Vincenzo\n"
     ]
    },
    {
     "ename": "TypeError",
     "evalue": "can only concatenate str (not \"int\") to str",
     "output_type": "error",
     "traceback": [
      "\u001b[0;31m---------------------------------------------------------------------------\u001b[0m",
      "\u001b[0;31mTypeError\u001b[0m                                 Traceback (most recent call last)",
      "\u001b[0;32m/var/folders/9t/v3zk_h6j1_v3xhrc87z4_f340000gn/T/ipykernel_32960/185786934.py\u001b[0m in \u001b[0;36m<module>\u001b[0;34m\u001b[0m\n\u001b[1;32m      1\u001b[0m \u001b[0;31m# Type Errors occur when attempting to concatenate a string with an integer\u001b[0m\u001b[0;34m\u001b[0m\u001b[0;34m\u001b[0m\u001b[0;34m\u001b[0m\u001b[0m\n\u001b[1;32m      2\u001b[0m \u001b[0mnum_char\u001b[0m \u001b[0;34m=\u001b[0m \u001b[0mlen\u001b[0m\u001b[0;34m(\u001b[0m\u001b[0minput\u001b[0m\u001b[0;34m(\u001b[0m\u001b[0;34m\"What is your name? \"\u001b[0m\u001b[0;34m)\u001b[0m\u001b[0;34m)\u001b[0m\u001b[0;34m\u001b[0m\u001b[0;34m\u001b[0m\u001b[0m\n\u001b[0;32m----> 3\u001b[0;31m \u001b[0mprint\u001b[0m\u001b[0;34m(\u001b[0m\u001b[0;34m\"Welcome \"\u001b[0m \u001b[0;34m+\u001b[0m \u001b[0;36m2\u001b[0m \u001b[0;34m+\u001b[0m \u001b[0;34m\"the show \"\u001b[0m \u001b[0;34m+\u001b[0m \u001b[0mnum_char\u001b[0m\u001b[0;34m)\u001b[0m\u001b[0;34m\u001b[0m\u001b[0;34m\u001b[0m\u001b[0m\n\u001b[0m",
      "\u001b[0;31mTypeError\u001b[0m: can only concatenate str (not \"int\") to str"
     ]
    }
   ],
   "source": [
    "# Type Errors occur when attempting to concatenate a string with an integer\n",
    "num_char = len(input(\"What is your name? \"))\n",
    "print(\"Welcome \" + 2 + \"the show \" + num_char)"
   ]
  },
  {
   "cell_type": "code",
   "execution_count": 2,
   "id": "b6cb3c48",
   "metadata": {},
   "outputs": [
    {
     "name": "stdout",
     "output_type": "stream",
     "text": [
      "<class 'int'>\n"
     ]
    }
   ],
   "source": [
    "# if you are ever unsure of the type of a data type, you can check it using the type method\n",
    "print(type(num_char))"
   ]
  },
  {
   "cell_type": "code",
   "execution_count": 4,
   "id": "2e5c76af",
   "metadata": {},
   "outputs": [
    {
     "name": "stdout",
     "output_type": "stream",
     "text": [
      "What is your name? Vincenzo\n",
      "Your name has 8 characters.\n"
     ]
    }
   ],
   "source": [
    "# you can change one particular data type to another - this is called type conversion or type casting.\n",
    "num_char = len(input(\"What is your name? \"))\n",
    "new_num_char = str(num_char)\n",
    "print(\"Your name has \" + new_num_char + \" characters.\")"
   ]
  },
  {
   "cell_type": "code",
   "execution_count": 5,
   "id": "2d5efa0b",
   "metadata": {},
   "outputs": [
    {
     "name": "stdout",
     "output_type": "stream",
     "text": [
      "<class 'int'>\n"
     ]
    }
   ],
   "source": [
    "a = 123\n",
    "print(type(a))"
   ]
  },
  {
   "cell_type": "code",
   "execution_count": 6,
   "id": "be2cc9ea",
   "metadata": {},
   "outputs": [
    {
     "name": "stdout",
     "output_type": "stream",
     "text": [
      "<class 'str'>\n"
     ]
    }
   ],
   "source": [
    "a = str(123)\n",
    "print(type(a))"
   ]
  },
  {
   "cell_type": "code",
   "execution_count": 7,
   "id": "fdf99f6e",
   "metadata": {},
   "outputs": [
    {
     "name": "stdout",
     "output_type": "stream",
     "text": [
      "<class 'float'>\n"
     ]
    }
   ],
   "source": [
    "a = float(123)\n",
    "print(type(a))"
   ]
  },
  {
   "cell_type": "code",
   "execution_count": 8,
   "id": "f1930676",
   "metadata": {},
   "outputs": [
    {
     "name": "stdout",
     "output_type": "stream",
     "text": [
      "170.5\n"
     ]
    }
   ],
   "source": [
    "print(70 + float(\"100.5\"))"
   ]
  },
  {
   "cell_type": "markdown",
   "id": "334801d1",
   "metadata": {},
   "source": [
    "Exercise 1: \n",
    "Write a program that adds the digits in a 2 digit number. e.g. if the input was 35, then the output should be 3 + 5 = 8\n"
   ]
  },
  {
   "cell_type": "code",
   "execution_count": 18,
   "id": "234640c1",
   "metadata": {},
   "outputs": [
    {
     "name": "stdout",
     "output_type": "stream",
     "text": [
      "Type a two digit number: 12\n",
      "3\n"
     ]
    }
   ],
   "source": [
    "# Don't change the code below \n",
    "two_digit_number = input(\"Type a two digit number: \")\n",
    "# Don't change the code above \n",
    "\n",
    "####################################\n",
    "#Write your code below this line \n",
    "\n",
    "num1 = int(two_digit_number[0])\n",
    "num2 = int(two_digit_number[1])\n",
    "\n",
    "two_digit_number = num1 + num2\n",
    "print(two_digit_number)"
   ]
  },
  {
   "cell_type": "markdown",
   "id": "15b51fe1",
   "metadata": {},
   "source": [
    "Exercise 2: Write a program that calculates the Body Mass Index (BMI) from a user's weight and height."
   ]
  },
  {
   "cell_type": "code",
   "execution_count": 4,
   "id": "8468d629",
   "metadata": {},
   "outputs": [
    {
     "name": "stdout",
     "output_type": "stream",
     "text": [
      "enter your height in m: 1.8\n",
      "enter your weight in kg: 69\n",
      "21\n"
     ]
    }
   ],
   "source": [
    "# Don't change the code below \n",
    "height = input(\"enter your height in m: \")\n",
    "weight = input(\"enter your weight in kg: \")\n",
    "# Don't change the code above \n",
    "\n",
    "#Write your code below this line \n",
    "height_int = float(height)\n",
    "weight_int = int(weight)\n",
    "\n",
    "bmi = weight_int / height_int**2\n",
    "print(int(bmi))\n",
    "    \n",
    "# OR\n",
    "# bmi = int(weight) / float(height) ** 2\n",
    "#bmi_as_int = int(bmi)\n"
   ]
  },
  {
   "cell_type": "markdown",
   "id": "f680e25c",
   "metadata": {},
   "source": [
    "Exercise 3: Create a program using maths and f-Strings that tells us how many days, weeks, months we have left if we live until 90 years old.\n",
    "\n",
    "- It will take your current age as the input and output a message with our time left in this format:\n",
    "\n",
    "- You have x days, y weeks, and z months left.\n",
    "\n",
    "- Where x, y and z are replaced with the actual calculated numbers.\n",
    "\n",
    "*Warning your output should match the Example Output format exactly, even the positions of the commas and full stops."
   ]
  },
  {
   "cell_type": "code",
   "execution_count": 6,
   "id": "c950218d",
   "metadata": {},
   "outputs": [
    {
     "name": "stdout",
     "output_type": "stream",
     "text": [
      "What is your current age?30\n",
      "You have 21900 days, 3120 weeks, and 720 months left.\n"
     ]
    }
   ],
   "source": [
    "# Don't change the code below\n",
    "age = input(\"What is your current age?\")\n",
    "# Don't change the code above \n",
    "\n",
    "#Write your code below this line \n",
    "age_int = int(age)\n",
    "known_age = 90\n",
    "new_age_calc = known_age - age_int\n",
    "\n",
    "months = 12 * new_age_calc\n",
    "days = 365 * new_age_calc\n",
    "weeks = 52 * new_age_calc\n",
    "\n",
    "months_string = str(months)\n",
    "days_string = str(days)\n",
    "weeks_string = str(weeks)\n",
    "\n",
    "print(f\"You have {days_string} days, {weeks_string} weeks, and {months_string} months left.\")\n"
   ]
  },
  {
   "cell_type": "markdown",
   "id": "af994c42",
   "metadata": {},
   "source": [
    "# Tip Calculator"
   ]
  },
  {
   "cell_type": "code",
   "execution_count": 5,
   "id": "b23e2d7e",
   "metadata": {},
   "outputs": [],
   "source": [
    "#If the bill was $150.00, split between 5 people, with 12% tip. \n",
    "\n",
    "#Each person should pay (150.00 / 5) * 1.12 = 33.6\n",
    "#Format the result to 2 decimal places = 33.60\n",
    "\n",
    "#Tip: There are 2 ways to round a number. You might have to do some Googling to solve this.\n",
    "\n",
    "#Write your code below this line "
   ]
  },
  {
   "cell_type": "code",
   "execution_count": 23,
   "id": "4c6da216",
   "metadata": {},
   "outputs": [
    {
     "name": "stdout",
     "output_type": "stream",
     "text": [
      "Input the total amount of your check: 150\n",
      "How much tip would you like to give? 10, 15, 20? 10\n",
      "How many people are in your group? 3\n",
      "Each person should pay: $55.00\n"
     ]
    }
   ],
   "source": [
    "bill = float(input(\"Input the total amount of your check: \"))\n",
    "tip = int(input(\"How much tip would you like to give? 10, 15, 20? \"))\n",
    "people = int(input(\"How many people are in your group? \"))\n",
    "tip_as_percent = tip / 100\n",
    "total_tip_amount = bill * tip_as_percent\n",
    "total_bill = bill + total_tip_amount\n",
    "bill_per_person = total_bill / people\n",
    "final_amount = round(bill_per_person)\n",
    "final_amount = \"{:.2f}\".format(bill_per_person)\n",
    "print(f\"Each person should pay: ${final_amount}\")"
   ]
  },
  {
   "cell_type": "code",
   "execution_count": null,
   "id": "337abe01",
   "metadata": {},
   "outputs": [],
   "source": []
  }
 ],
 "metadata": {
  "kernelspec": {
   "display_name": "Python 3 (ipykernel)",
   "language": "python",
   "name": "python3"
  },
  "language_info": {
   "codemirror_mode": {
    "name": "ipython",
    "version": 3
   },
   "file_extension": ".py",
   "mimetype": "text/x-python",
   "name": "python",
   "nbconvert_exporter": "python",
   "pygments_lexer": "ipython3",
   "version": "3.8.8"
  }
 },
 "nbformat": 4,
 "nbformat_minor": 5
}
