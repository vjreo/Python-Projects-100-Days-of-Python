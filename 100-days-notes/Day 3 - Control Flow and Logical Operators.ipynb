{
 "cells": [
  {
   "cell_type": "markdown",
   "id": "41a096c5",
   "metadata": {},
   "source": [
    "# 100 Days of Python Code: Day 3"
   ]
  },
  {
   "cell_type": "markdown",
   "id": "fdc9f899",
   "metadata": {},
   "source": [
    "Control Flow and Logical Operators"
   ]
  },
  {
   "cell_type": "code",
   "execution_count": 3,
   "id": "95519b94",
   "metadata": {},
   "outputs": [
    {
     "name": "stdout",
     "output_type": "stream",
     "text": [
      "Welcome to the rollercoaster!\n",
      "What is your height in cm? 120\n",
      "You can ride the rollercoaster!\n"
     ]
    }
   ],
   "source": [
    "print(\"Welcome to the rollercoaster!\")\n",
    "height = int(input(\"What is your height in cm? \"))\n",
    "\n",
    "if height >= 120:\n",
    "    print(\"You can ride the rollercoaster!\")\n",
    "else:\n",
    "    print(\"Sorry, you have to grow taller before you can ride.\")\n"
   ]
  },
  {
   "cell_type": "markdown",
   "id": "2d30e5f0",
   "metadata": {},
   "source": [
    "**Exercise 1:** Write a program that works out whether if a given number is an odd or even number.\n",
    "\n",
    "- Even numbers can be divided by 2 with no remainder.\n",
    "\n",
    "- **e.g.** 86 is even because 86 ÷ 2 = 43\n",
    "\n",
    "- 43 does not have any decimal places. Therefore the division is clean.\n",
    "\n",
    "- **e.g.** 59 is odd because 59 ÷ 2 = 29.5\n",
    "\n",
    "- 29.5 is not a whole number, it has decimal places. Therefore there is a remainder of 0.5, so the division is not clean.\n",
    "\n",
    "- The modulo is written as a percentage sign (%) in Python. It gives you the remainder after a division.\n"
   ]
  },
  {
   "cell_type": "code",
   "execution_count": 6,
   "id": "8e040224",
   "metadata": {},
   "outputs": [
    {
     "name": "stdout",
     "output_type": "stream",
     "text": [
      "Which number do you want to check? 23\n",
      "23 is an odd number.\n"
     ]
    }
   ],
   "source": [
    "# Don't change the code below \n",
    "number = int(input(\"Which number do you want to check? \"))\n",
    "# Don't change the code above \n",
    "\n",
    "#Write your code below this line \n",
    "if number % 2 == 0:\n",
    "    print(f\"{number} is an even number.\")\n",
    "else: \n",
    "    print(f\"{number} is an odd number.\")"
   ]
  },
  {
   "cell_type": "code",
   "execution_count": 7,
   "id": "6318bdfb",
   "metadata": {},
   "outputs": [
    {
     "name": "stdout",
     "output_type": "stream",
     "text": [
      "Welcome to the rollercoaster!\n",
      "What is your height in cm? 121\n",
      "You can ride the rollercoaster!\n",
      "What is your age? 30\n",
      "Please pay $12\n"
     ]
    }
   ],
   "source": [
    "# nested if statements and elif statements\n",
    "print(\"Welcome to the rollercoaster!\")\n",
    "height = int(input(\"What is your height in cm? \"))\n",
    "\n",
    "if height >= 120:\n",
    "  print(\"You can ride the rollercoaster!\")\n",
    "  age = int(input(\"What is your age? \"))\n",
    "  if age < 12:\n",
    "    print(\"Please pay $5.\")\n",
    "  elif age <= 18:\n",
    "    print(\"Please pay $7.\")\n",
    "  else:\n",
    "    print(\"Please pay $12\")\n",
    "else: \n",
    "  print(\"Sorry, you have to grow taller before you can ride.\")"
   ]
  },
  {
   "cell_type": "markdown",
   "id": "f39b06be",
   "metadata": {},
   "source": [
    "**Exercise 2:** Write a program that interprets the Body Mass Index (BMI) based on a user's weight and height.\n",
    "\n",
    "- It should tell them the interpretation of their BMI based on the BMI value.\n",
    "\n",
    "- Under 18.5 they are underweight\n",
    "- Over 18.5 but below 25 they have a normal weight\n",
    "- Over 25 but below 30 they are slightly overweight\n",
    "- Over 30 but below 35 they are obese\n",
    "- Above 35 they are clinically obese.\n",
    "\n",
    "**Warning** you should round the result to the nearest whole number. The interpretation message needs to include the words in bold from the interpretations above. e.g. underweight, normal weight, overweight, obese, clinically obese.\n",
    "\n",
    "**Hint:**\n",
    "\n",
    "1. Try to use the exponent operator in your code.\n",
    "2. Remember to round your result to the nearest whole number.\n",
    "3. Make sure you include the words in bold from the interpretations.\n"
   ]
  },
  {
   "cell_type": "code",
   "execution_count": 21,
   "id": "0ef90c2c",
   "metadata": {},
   "outputs": [
    {
     "name": "stdout",
     "output_type": "stream",
     "text": [
      "What is your height in meters? 1.4\n",
      "What is your weight in kilograms? 75\n",
      "38\n",
      "Your BMI is 38, you are clinically obese.\n"
     ]
    }
   ],
   "source": [
    "# BMI Calculator - Metric System\n",
    "height = float(input(\"What is your height in meters? \"))\n",
    "weight = int(input(\"What is your weight in kilograms? \"))\n",
    "\n",
    "bmi = round(int(weight) / float(height) ** 2)\n",
    "\n",
    "if bmi < 18.5:\n",
    "    print(f\"Your BMI is {bmi}, you are underweight.\")\n",
    "elif bmi > 18.5 and bmi < 25:\n",
    "    print(f\"Your BMI is {bmi}, you have a normal weight.\")\n",
    "elif bmi > 25 and bmi < 30:\n",
    "    print(f\"Your BMI is {bmi}, you are slightly overweight.\")\n",
    "elif bmi > 30 and bmi < 35:\n",
    "    print(f\"Your BMI is {bmi}, you are obese.\")\n",
    "else:\n",
    "    print(f\"Your BMI is {bmi}, you are clinically obese.\")"
   ]
  },
  {
   "cell_type": "code",
   "execution_count": 5,
   "id": "46701a2b",
   "metadata": {},
   "outputs": [
    {
     "name": "stdout",
     "output_type": "stream",
     "text": [
      "What is your height in inches? 68\n",
      "What is your weight in pounds? 152\n",
      "Your BMI is 23, you have a normal weight.\n"
     ]
    }
   ],
   "source": [
    "# BMI Calcualator - US\n",
    "height = float(input(\"What is your height in inches? \"))\n",
    "weight = int(input(\"What is your weight in pounds? \"))\n",
    "\n",
    "bmi = round(int(weight) / ((height) ** 2) * 703)\n",
    "\n",
    "if bmi < 18.5:\n",
    "    print(f\"Your BMI is {bmi}, you are underweight.\")\n",
    "elif bmi > 18.5 and bmi < 25:\n",
    "    print(f\"Your BMI is {bmi}, you have a normal weight.\")\n",
    "elif bmi > 25 and bmi < 30:\n",
    "    print(f\"Your BMI is {bmi}, you are slightly overweight.\")\n",
    "elif bmi > 30 and bmi < 35:\n",
    "    print(f\"Your BMI is {bmi}, you are obese.\")\n",
    "else:\n",
    "    print(f\"Your BMI is {bmi}, you are clinically obese.\")"
   ]
  },
  {
   "cell_type": "markdown",
   "id": "4c96ce57",
   "metadata": {},
   "source": [
    "**Exercise 3:** Write a program that works out whether if a given year is a leap year. A normal year has 365 days, leap years have 366, with an extra day in February. \n",
    "\n",
    "This is how you work out whether if a particular year is a leap year:\n",
    "\n",
    "- on every year that is evenly divisible by 4 \n",
    "\n",
    "- **except** every year that is evenly divisible by 100 \n",
    "\n",
    "- **unless** the year is also evenly divisible by 400"
   ]
  },
  {
   "cell_type": "code",
   "execution_count": 17,
   "id": "5919d562",
   "metadata": {},
   "outputs": [
    {
     "name": "stdout",
     "output_type": "stream",
     "text": [
      "Which year do you want to check? 1015\n",
      "Not leap year.\n"
     ]
    }
   ],
   "source": [
    "# my solution\n",
    "\n",
    "# Don't change the code below \n",
    "year = int(input(\"Which year do you want to check? \"))\n",
    "# Don't change the code above \n",
    "\n",
    "# Write your code below this line \n",
    "if year % 4 == 0:\n",
    "    print(\"Leap year.\")\n",
    "elif year % 100 == 0:\n",
    "    print(\"Not leap year.\")\n",
    "elif year % 400 == 0:\n",
    "    print(\"Leap year.\")\n",
    "else: \n",
    "    print(\"Not leap year.\")"
   ]
  },
  {
   "cell_type": "code",
   "execution_count": 18,
   "id": "c15f033a",
   "metadata": {},
   "outputs": [
    {
     "name": "stdout",
     "output_type": "stream",
     "text": [
      "Which year do you want to check? 1015\n",
      "Not leap year.\n"
     ]
    }
   ],
   "source": [
    "# angela's solution\n",
    "\n",
    "year = int(input(\"Which year do you want to check? \"))\n",
    "if year % 4 == 0:\n",
    "    if year % 100 == 0:\n",
    "        if year % 400 == 0:\n",
    "            print(\"Leap year.\")\n",
    "        else: \n",
    "            print(\"Not leap year.\")\n",
    "    else:\n",
    "        print(\"Leap year.\")\n",
    "else: \n",
    "    print(\"Not leap year.\")"
   ]
  },
  {
   "cell_type": "code",
   "execution_count": 19,
   "id": "8cc062bb",
   "metadata": {},
   "outputs": [
    {
     "name": "stdout",
     "output_type": "stream",
     "text": [
      "Welcome to the rollercoaster!\n",
      "What is your height in cm? 121\n",
      "You can ride the rollercoaster!\n",
      "What is your age? 21\n",
      "Do you want a photo taken? Y or N. Y\n",
      "Your final bill is $15.\n"
     ]
    }
   ],
   "source": [
    "print(\"Welcome to the rollercoaster!\")\n",
    "height = int(input(\"What is your height in cm? \"))\n",
    "bill = 0\n",
    "\n",
    "if height >= 120:\n",
    "  print(\"You can ride the rollercoaster!\")\n",
    "  age = int(input(\"What is your age? \"))\n",
    "  if age < 12:\n",
    "    bill = 5\n",
    "  elif age <= 18:\n",
    "    bill = 7\n",
    "  else:\n",
    "    bill = 12\n",
    "  elif age >= 45 and age <= 55:\n",
    "    print(\"Everything is going to be okay. Have a free ride on us!\")\n",
    "\n",
    "  wants_photo = input(\"Do you want a photo taken? Y or N. \")\n",
    "  if wants_photo == \"Y\":\n",
    "    bill += 3\n",
    "\n",
    "  print(f\"Your final bill is ${bill}.\")\n",
    "\n",
    "else: \n",
    "  print(\"Sorry, you have to grow taller before you can ride.\")"
   ]
  },
  {
   "cell_type": "markdown",
   "id": "8c64c37f",
   "metadata": {},
   "source": [
    "**Exercise 4:** Congratulations, you've got a job at Python Pizza. Your first job is to build an automatic pizza order program.\n",
    "\n",
    "Based on a user's order, work out their final bill.\n",
    "\n",
    " - Small Pizza: $15\n",
    "\n",
    " - Medium Pizza: $20\n",
    "\n",
    " - Large Pizza: $25\n",
    "\n",
    " - Pepperoni for Small Pizza: +$2\n",
    "\n",
    " - Pepperoni for Medium or Large Pizza: +$3\n",
    "\n",
    " - Extra cheese for any size pizza: + $1"
   ]
  },
  {
   "cell_type": "code",
   "execution_count": 30,
   "id": "9f1dbf48",
   "metadata": {},
   "outputs": [
    {
     "name": "stdout",
     "output_type": "stream",
     "text": [
      "Welcome to Python Pizza Deliveries!\n",
      "What size pizza do you want? S, M, or L S\n",
      "Do you want pepperoni? Y or N Y\n",
      "Do you want extra cheese? Y or N Y\n",
      "Your final bill is: $18\n"
     ]
    }
   ],
   "source": [
    "# Don't change the code below\n",
    "print(\"Welcome to Python Pizza Deliveries!\")\n",
    "size = input(\"What size pizza do you want? S, M, or L \")\n",
    "add_pepperoni = input(\"Do you want pepperoni? Y or N \")\n",
    "extra_cheese = input(\"Do you want extra cheese? Y or N \")\n",
    "# Don't change the code above \n",
    "\n",
    "#Write your code below this line \n",
    "bill = 0\n",
    "\n",
    "if size == \"S\": \n",
    "    bill += 15\n",
    "elif size == \"M\":\n",
    "    bill += 20\n",
    "else:\n",
    "    bill += 25\n",
    "    \n",
    "if add_pepperoni == \"Y\":\n",
    "    if size == \"S\":\n",
    "        bill += 2\n",
    "    else:\n",
    "        bill += 3\n",
    "\n",
    "if extra_cheese == \"Y\":\n",
    "    bill += 1\n",
    "    \n",
    "\n",
    "print(f\"Your final bill is: ${bill}\")"
   ]
  },
  {
   "cell_type": "markdown",
   "id": "073005ff",
   "metadata": {},
   "source": [
    "**Exercise 5:** To work out the love score between two people:\n",
    "\n",
    " - Take both people's names and check for the number of times the letters in the word TRUE occurs. \n",
    "\n",
    " - Then check for the number of times the letters in the word LOVE occurs. \n",
    "\n",
    " - Then combine these numbers to make a 2 digit number.\n",
    "\n"
   ]
  },
  {
   "cell_type": "code",
   "execution_count": null,
   "id": "6c496432",
   "metadata": {},
   "outputs": [],
   "source": []
  },
  {
   "cell_type": "code",
   "execution_count": 6,
   "id": "1a80a57d",
   "metadata": {
    "scrolled": true
   },
   "outputs": [
    {
     "name": "stdout",
     "output_type": "stream",
     "text": [
      "Welcome to the Love Calculator!\n",
      "What is your name? \n",
      "Vincenzo Reo\n",
      "What is their name? \n",
      "Ariana Grande\n",
      "66\n",
      "Your score is 66.\n"
     ]
    }
   ],
   "source": [
    "# Don't change the code below \n",
    "print(\"Welcome to the Love Calculator!\")\n",
    "name1 = input(\"What is your name? \\n\")\n",
    "name2 = input(\"What is their name? \\n\")\n",
    "# Don't change the code above \n",
    "\n",
    "#Write your code below this line \n",
    "\n",
    "combined_string = name1 + name2\n",
    "lower_case_string = combined_string.lower()\n",
    "\n",
    "t = lower_case_string.count('t')\n",
    "r = lower_case_string.count('r')\n",
    "u = lower_case_string.count('u')\n",
    "e = lower_case_string.count('e')\n",
    "total_word_true = t + r + u + e\n",
    "\n",
    "l = lower_case_string.count('l')\n",
    "o = lower_case_string.count('o')\n",
    "v = lower_case_string.count('v')\n",
    "e = lower_case_string.count('e')\n",
    "total_word_love = l + o + v + e\n",
    "\n",
    "true_love_string = str(total_word_true) + str(total_word_love)\n",
    "total_love_score = int(true_love_string)\n",
    "print(total_love_score)\n",
    "\n",
    "if total_love_score <= 10 or total_love_score >= 90:\n",
    "    print(f\"Your score is {total_love_score}, you go together like coke and mentos\")\n",
    "elif total_love_score >= 40 and total_love_score < 50:\n",
    "    print(f\"Your score is {total_love_score}, you are alright together\")\n",
    "else:\n",
    "    print(f\"Your score is {total_love_score}.\")"
   ]
  },
  {
   "cell_type": "code",
   "execution_count": 2,
   "id": "b5870856",
   "metadata": {},
   "outputs": [
    {
     "name": "stdout",
     "output_type": "stream",
     "text": [
      "Welcome to the Love Calculator!\n",
      "What is your name? \n",
      "Kanye West\n",
      "What is their name? \n",
      "Kim Kardashian\n",
      "42\n",
      "Your score is 42, you are alright together\n"
     ]
    }
   ],
   "source": [
    "# Don't change the code below \n",
    "print(\"Welcome to the Love Calculator!\")\n",
    "name1 = input(\"What is your name? \\n\")\n",
    "name2 = input(\"What is their name? \\n\")\n",
    "# Don't change the code above \n",
    "\n",
    "combined_string = name1 + name2\n",
    "lower_case_string = combined_string.lower()\n",
    "\n",
    "t = lower_case_string.count('t')\n",
    "r = lower_case_string.count('r')\n",
    "u = lower_case_string.count('u')\n",
    "e = lower_case_string.count('e')\n",
    "true = t + r + u + e\n",
    "\n",
    "l = lower_case_string.count('l')\n",
    "o = lower_case_string.count('o')\n",
    "v = lower_case_string.count('v')\n",
    "e = lower_case_string.count('e')\n",
    "love = l + o + v + e\n",
    "\n",
    "love_score = int(str(true) + str(love))\n",
    "print(love_score)\n",
    "\n",
    "if (love_score < 10) or (love_score > 90):\n",
    "    print(f\"Your score is {total_love_score}, you go together like coke and mentos\")\n",
    "elif (love_score) >= 40 and (love_score) < 50:\n",
    "    print(f\"Your score is {love_score}, you are alright together\")\n",
    "else:\n",
    "    print(f\"Your score is {love_score}.\")"
   ]
  },
  {
   "cell_type": "code",
   "execution_count": null,
   "id": "bc2a71c6",
   "metadata": {},
   "outputs": [],
   "source": []
  }
 ],
 "metadata": {
  "kernelspec": {
   "display_name": "Python 3 (ipykernel)",
   "language": "python",
   "name": "python3"
  },
  "language_info": {
   "codemirror_mode": {
    "name": "ipython",
    "version": 3
   },
   "file_extension": ".py",
   "mimetype": "text/x-python",
   "name": "python",
   "nbconvert_exporter": "python",
   "pygments_lexer": "ipython3",
   "version": "3.8.8"
  }
 },
 "nbformat": 4,
 "nbformat_minor": 5
}
