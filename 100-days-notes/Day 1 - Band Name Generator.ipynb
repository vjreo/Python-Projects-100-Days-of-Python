{
 "cells": [
  {
   "cell_type": "markdown",
   "id": "84da0677",
   "metadata": {},
   "source": [
    "# 100 Days of Python Code: Day 1"
   ]
  },
  {
   "cell_type": "markdown",
   "id": "77f2ee7b",
   "metadata": {},
   "source": [
    "Write a program that prints the notes from the lession informing the user about the print function"
   ]
  },
  {
   "cell_type": "code",
   "execution_count": 1,
   "id": "ca388697",
   "metadata": {},
   "outputs": [
    {
     "name": "stdout",
     "output_type": "stream",
     "text": [
      "Day 1 - Python Print Function\n",
      "The function is declared like this:\n",
      "print('what to print')\n"
     ]
    }
   ],
   "source": [
    "print('Day 1 - Python Print Function\\nThe function is declared like this:\\nprint(\\'what to print\\')')"
   ]
  },
  {
   "cell_type": "markdown",
   "id": "2e674f51",
   "metadata": {},
   "source": [
    "Look at the code provided. There are errors in all of the lines of code. Fix the errors so that the code runs properly. "
   ]
  },
  {
   "cell_type": "code",
   "execution_count": null,
   "id": "151e18f1",
   "metadata": {},
   "outputs": [],
   "source": [
    "# fix this code below:\n",
    "print(Day 1 - String Manipulation\")\n",
    "print(\"String Concatenation is done with the \"+\" sign.\")\n",
    "  print('e.g. print(\"Hello \" + \"world\")')\n",
    "print((\"New lines can be created with a backslash and n.\")"
   ]
  },
  {
   "cell_type": "code",
   "execution_count": 5,
   "id": "feeed410",
   "metadata": {},
   "outputs": [
    {
     "name": "stdout",
     "output_type": "stream",
     "text": [
      "Day 1 - String Manipulation\n",
      "String Concatenation is done with the \"+\" sign.\n",
      "e.g. print(\"Hello \" + \"world\")\n",
      "New lines can be created with a backslash and n.\n"
     ]
    }
   ],
   "source": [
    "# my solution:\n",
    "\n",
    "print(\"Day 1 - String Manipulation\")\n",
    "print(\"String Concatenation is done with the \\\"+\\\" sign.\")\n",
    "print(\"e.g. \" + \"print(\\\"Hello \\\" + \\\"world\\\")\")\n",
    "print(\"New lines can be created with a backslash and n.\")"
   ]
  },
  {
   "cell_type": "markdown",
   "id": "cde066f7",
   "metadata": {},
   "source": [
    "Write a program that prints the number of characters in a user's name. "
   ]
  },
  {
   "cell_type": "code",
   "execution_count": 2,
   "id": "ed0c2324",
   "metadata": {},
   "outputs": [
    {
     "name": "stdout",
     "output_type": "stream",
     "text": [
      "What is your name? Vincenzo\n",
      "8\n"
     ]
    }
   ],
   "source": [
    "name = input(\"What is your name? \")\n",
    "print(len(name))"
   ]
  },
  {
   "cell_type": "markdown",
   "id": "9511f730",
   "metadata": {},
   "source": [
    "Write a program that switches the values stored in the variables a and b."
   ]
  },
  {
   "cell_type": "code",
   "execution_count": 11,
   "id": "1cd92401",
   "metadata": {},
   "outputs": [
    {
     "name": "stdout",
     "output_type": "stream",
     "text": [
      "a: 1\n",
      "b: 4\n",
      "a: 4\n",
      "b: 1\n"
     ]
    }
   ],
   "source": [
    "# Don't change the code below \n",
    "a = input(\"a: \")\n",
    "b = input(\"b: \")\n",
    "# Don't change the code above \n",
    "\n",
    "####################################\n",
    "#Write your code below this line \n",
    "\n",
    "c = a\n",
    "a = b\n",
    "b = c\n",
    "\n",
    "#Write your code above this line \n",
    "####################################\n",
    "\n",
    "# Don't change the code below \n",
    "print(\"a: \" + a)\n",
    "print(\"b: \" + b)"
   ]
  },
  {
   "cell_type": "markdown",
   "id": "03f9dec0",
   "metadata": {},
   "source": [
    "# Band Name Generator Program"
   ]
  },
  {
   "cell_type": "code",
   "execution_count": null,
   "id": "b5bbe3f6",
   "metadata": {},
   "outputs": [],
   "source": [
    "#1. Create a greeting for your program.\n",
    "\n",
    "#2. Ask the user for the city that they grew up in.\n",
    "\n",
    "#3. Ask the user for the name of a pet.\n",
    "\n",
    "#4. Combine the name of their city and pet and show them their band name.\n",
    "\n",
    "#5. Make sure the input cursor shows on a new line"
   ]
  },
  {
   "cell_type": "code",
   "execution_count": 5,
   "id": "2397a39c",
   "metadata": {},
   "outputs": [
    {
     "name": "stdout",
     "output_type": "stream",
     "text": [
      "Insert your name: Vincenzo\n",
      "\n",
      "Hello Vincenzo! Welcome to the Band Name Generator. We will ask a series of questions which will allow us to generate a cool band name for you. Please follow the prompts below.\n",
      "What city did you grow up in? \n",
      "Detroit\n",
      "What is the name of a pet you currently own (or have owned)? \n",
      "Caya\n",
      "Your band name could be: Detroit Caya\n"
     ]
    }
   ],
   "source": [
    "name = input(\"Insert your name: \")\n",
    "greeting = \"\\nHello \" + name + \"! Welcome to the Band Name Generator. We will ask a series of questions which will allow us to generate a cool band name for you. Please follow the prompts below.\"\n",
    "print(greeting)\n",
    "\n",
    "city = input(\"What city did you grow up in? \\n\")\n",
    "\n",
    "pet = input(\"What is the name of a pet you currently own (or have owned)? \\n\")\n",
    "\n",
    "band_name = city + \" \" + pet\n",
    "print(\"Your band name could be: \" + band_name)\n"
   ]
  },
  {
   "cell_type": "code",
   "execution_count": null,
   "id": "45649eea",
   "metadata": {},
   "outputs": [],
   "source": []
  }
 ],
 "metadata": {
  "kernelspec": {
   "display_name": "Python 3 (ipykernel)",
   "language": "python",
   "name": "python3"
  },
  "language_info": {
   "codemirror_mode": {
    "name": "ipython",
    "version": 3
   },
   "file_extension": ".py",
   "mimetype": "text/x-python",
   "name": "python",
   "nbconvert_exporter": "python",
   "pygments_lexer": "ipython3",
   "version": "3.8.8"
  }
 },
 "nbformat": 4,
 "nbformat_minor": 5
}
